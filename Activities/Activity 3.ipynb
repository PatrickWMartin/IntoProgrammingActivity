{
 "cells": [
  {
   "cell_type": "markdown",
   "metadata": {},
   "source": [
    "Last we will find molar mass. The test is that you must complete this with no pre-filled parts. Once you have completed this you are done."
   ]
  },
  {
   "cell_type": "code",
   "execution_count": null,
   "metadata": {},
   "outputs": [],
   "source": [
    "# 10 mol of carbon dioxide has a mass of 440 g. What is the molar mass of carbon dioxide?\n",
    "\n",
    "\n",
    "# 440 ÷ 10 = 44"
   ]
  },
  {
   "cell_type": "markdown",
   "metadata": {},
   "source": [
    " Congratulations you have completed the activity and the Hour of Code! "
   ]
  }
 ],
 "metadata": {
  "kernelspec": {
   "display_name": "Python 3",
   "language": "python",
   "name": "python3"
  },
  "language_info": {
   "codemirror_mode": {
    "name": "ipython",
    "version": 3
   },
   "file_extension": ".py",
   "mimetype": "text/x-python",
   "name": "python",
   "nbconvert_exporter": "python",
   "pygments_lexer": "ipython3",
   "version": "3.6.2"
  }
 },
 "nbformat": 4,
 "nbformat_minor": 2
}
