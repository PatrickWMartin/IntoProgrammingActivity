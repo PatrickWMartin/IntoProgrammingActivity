{
 "cells": [
  {
   "cell_type": "markdown",
   "metadata": {},
   "source": [
    "Welcome, today we will be doing an introduction to programming with Python. Python is a programming language for general-purpose programming. Like other programming languages, python allows us a way to communicate our ideas with the computer. Python is a very popular beginner language and is widely used in the math and science community.\n",
    "\n",
    "We communicate our ideas to a computer using programming languages by giving the computer commands also know as statements. These statements follow a set of rules which is called a syntax. This is just like English or any spoken language where there are rules about sentence structure. \n",
    "\n",
    "When we want to share our commands to the computer we write them in a text file using the programming language of our choice. These files are called programs. When you run a program you are telling the computer to read the text file, translate it into machine code that the computer understands and then perform those commands you wrote.\n",
    "\n",
    "Today we will be using a tool called Jupyter Notebooks. Each of these cells that you see are like a special text file. When you hit the run button at the top it will run the code inside of the cell. The code that you run will be stored in the memory and can be used in lower cells. A quick warning, if you change something in a cell without running it again, you will not see the change in the lower cells.\n",
    "\n",
    "So, let's get into writing our first program. To start we're going to start by making the \"Hello World\" program. This is the first program that new programmers write. What this program does is prints \"Hello World\" to the screen. In the cell below write Hello World between the quotes, then select the cell and run it. After you have done that you will have written and executed your first program.\n"
   ]
  },
  {
   "cell_type": "code",
   "execution_count": null,
   "metadata": {},
   "outputs": [],
   "source": [
    "output = \"\"\n",
    "print(output)"
   ]
  },
  {
   "cell_type": "markdown",
   "metadata": {},
   "source": [
    "You will notice that the first line of the program says output and has an equal sign. That is called a variable. A variable is a value that can be changed throughout the program, it can be a number, word or many other things. Try changing the value of output a couple times and see what happens. \n",
    "\n",
    "The second line of that program says print(output) and as you can probally guess it prints whatever is inside of it to the screen. print() is a built-in function of Python. A function is a type of procedure or routine that you can call when you want to use it. We will learn how to make those soon. The print function prints out not just variables, but almost anything you put in it as long as it follows the syntax rules. One useful thing that print statments can do is print out math operators such as +, -, x, and /. "
   ]
  }
 ],
 "metadata": {
  "kernelspec": {
   "display_name": "Python 3",
   "language": "python",
   "name": "python3"
  },
  "language_info": {
   "codemirror_mode": {
    "name": "ipython",
    "version": 3
   },
   "file_extension": ".py",
   "mimetype": "text/x-python",
   "name": "python",
   "nbconvert_exporter": "python",
   "pygments_lexer": "ipython3",
   "version": "3.6.2"
  }
 },
 "nbformat": 4,
 "nbformat_minor": 2
}
