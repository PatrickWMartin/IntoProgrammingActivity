{
 "cells": [
  {
   "cell_type": "markdown",
   "metadata": {},
   "source": [
    "As mentioned in Part 1 there are operators in python. A quick definition of operators is that they are operations that can change the value of numbers. The big four that you need to worry about right now are addition (+), subtraction (-), multiply (*), and divide (/). In the cell below, we are going to use operators to change some values. Run the cell below and see what happens."
   ]
  },
  {
   "cell_type": "code",
   "execution_count": null,
   "metadata": {},
   "outputs": [],
   "source": [
    "print(1 + 2)\n",
    "print(6 - 5)\n",
    "print(4 * 5)\n",
    "print(10 / 5)\n",
    "print(1*2/2+66/(2+3))"
   ]
  },
  {
   "cell_type": "markdown",
   "metadata": {},
   "source": [
    "You can also use operators on variables. Let's see that in action, fill the variables with values of your choice and see what happens."
   ]
  },
  {
   "cell_type": "code",
   "execution_count": null,
   "metadata": {},
   "outputs": [],
   "source": [
    "a = \n",
    "b =\n",
    "c =\n",
    "\n",
    "print(a + b)\n",
    "\n",
    "# Come up with two print statments like the one above but using other operators afer you run it the first time\n",
    "\n"
   ]
  },
  {
   "cell_type": "code",
   "execution_count": null,
   "metadata": {},
   "outputs": [],
   "source": []
  }
 ],
 "metadata": {
  "kernelspec": {
   "display_name": "Python 3",
   "language": "python",
   "name": "python3"
  },
  "language_info": {
   "codemirror_mode": {
    "name": "ipython",
    "version": 3
   },
   "file_extension": ".py",
   "mimetype": "text/x-python",
   "name": "python",
   "nbconvert_exporter": "python",
   "pygments_lexer": "ipython3",
   "version": "3.6.2"
  }
 },
 "nbformat": 4,
 "nbformat_minor": 2
}
