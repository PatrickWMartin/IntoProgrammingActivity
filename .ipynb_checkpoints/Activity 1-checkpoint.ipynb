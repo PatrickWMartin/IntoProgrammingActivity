{
 "cells": [
  {
   "cell_type": "markdown",
   "metadata": {},
   "source": [
    "So now that we have the basics we are going to put it all together and make three functions that help us with mole calulations. For the first function lets find moles. Fill in the blanks and when you get the correct awnser you can move on to the next part."
   ]
  },
  {
   "cell_type": "code",
   "execution_count": null,
   "metadata": {},
   "outputs": [],
   "source": [
    "# moles = mass / molar mass\n",
    "# Calculate the number of moles in 103g of Mo.\n",
    "\n",
    "\n",
    "def find_moles(mass, molar_mass):\n",
    "    moles = /\n",
    "    print(moles)\n",
    "    \n",
    "find_moles(103, 95.94)\n",
    "#103 g x 1 mol / 95.94 g = 1.07 mol Mo"
   ]
  }
 ],
 "metadata": {
  "kernelspec": {
   "display_name": "Python 3",
   "language": "python",
   "name": "python3"
  },
  "language_info": {
   "codemirror_mode": {
    "name": "ipython",
    "version": 3
   },
   "file_extension": ".py",
   "mimetype": "text/x-python",
   "name": "python",
   "nbconvert_exporter": "python",
   "pygments_lexer": "ipython3",
   "version": "3.6.2"
  }
 },
 "nbformat": 4,
 "nbformat_minor": 2
}
