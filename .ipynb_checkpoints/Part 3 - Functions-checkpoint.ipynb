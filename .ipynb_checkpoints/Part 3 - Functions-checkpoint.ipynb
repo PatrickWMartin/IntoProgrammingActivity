{
 "cells": [
  {
   "cell_type": "markdown",
   "metadata": {},
   "source": [
    "Now its time to learn how to make a function. A function is a block of code which only runs when it is called. You can pass data to functions, these are known as parameters. A function can also return data after it runs but we won’t worry about that for now. In Python, a function is defined using the def keyword. An example of the cell below is an example of a basic function press run and see what happens"
   ]
  },
  {
   "cell_type": "code",
   "execution_count": null,
   "metadata": {},
   "outputs": [],
   "source": [
    "def basic_function():\n",
    "    print(\"Hello\")\n",
    "\n",
    "  "
   ]
  },
  {
   "cell_type": "markdown",
   "metadata": {},
   "source": [
    "As you noticed nothing happend. This is because you made the function but need to call it. Go back to the above cell but this time write basic_function() on the 4th line and see what happens.\n",
    "\n",
    "\n",
    "Now lets make a function that you pass a parameter to and see what happens. Pass your name where it says \"your name here\" and see what happens."
   ]
  },
  {
   "cell_type": "code",
   "execution_count": null,
   "metadata": {},
   "outputs": [],
   "source": [
    "def basic_function(your_name):\n",
    "    #The plus joins those as one sentance and is needed when you want to join strings     \n",
    "    print(\"Hello \" + your_name)\n",
    "    \n",
    "basic_function(\"your name here\")"
   ]
  },
  {
   "cell_type": "markdown",
   "metadata": {},
   "source": [
    "We can pass anything we want and we can pass multiple things to a function as well."
   ]
  },
  {
   "cell_type": "code",
   "execution_count": null,
   "metadata": {},
   "outputs": [],
   "source": [
    "def add_function(a, b):\n",
    "    print(a + b)\n",
    "\n",
    "add_function(1,2)"
   ]
  },
  {
   "cell_type": "markdown",
   "metadata": {},
   "source": [
    "## Fill in the blanks on this subtract function for some practice"
   ]
  },
  {
   "cell_type": "code",
   "execution_count": null,
   "metadata": {},
   "outputs": [],
   "source": [
    "def subtract function(a, ):\n",
    "    print()\n",
    "    \n",
    "subtract function(, )"
   ]
  }
 ],
 "metadata": {
  "kernelspec": {
   "display_name": "Python 3",
   "language": "python",
   "name": "python3"
  },
  "language_info": {
   "codemirror_mode": {
    "name": "ipython",
    "version": 3
   },
   "file_extension": ".py",
   "mimetype": "text/x-python",
   "name": "python",
   "nbconvert_exporter": "python",
   "pygments_lexer": "ipython3",
   "version": "3.6.2"
  }
 },
 "nbformat": 4,
 "nbformat_minor": 2
}
